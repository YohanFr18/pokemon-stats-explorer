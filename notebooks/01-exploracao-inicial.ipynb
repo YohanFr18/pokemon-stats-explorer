{
 "cells": [
  {
   "metadata": {},
   "cell_type": "markdown",
   "source": "## Importação, leitura e limpeza",
   "id": "c99f11229d961ef5"
  },
  {
   "cell_type": "code",
   "id": "initial_id",
   "metadata": {
    "collapsed": true
   },
   "source": [
    "import pandas as pd\n",
    "import numpy as np"
   ],
   "outputs": [],
   "execution_count": null
  },
  {
   "metadata": {},
   "cell_type": "code",
   "source": [
    "# Leitura do dataset a ser utilizado\n",
    "df = pd.read_csv('../data/Pokemon.csv')\n",
    "df.head()"
   ],
   "id": "22665ae47a4a0b97",
   "outputs": [],
   "execution_count": null
  },
  {
   "metadata": {},
   "cell_type": "code",
   "source": [
    "# Preenchimento dos valores NaN do dataframe (Type 2)\n",
    "df['Type 2'] = df['Type 2'].fillna('None')\n",
    "\n",
    "df.info()"
   ],
   "id": "dbe3b62734e1af0b",
   "outputs": [],
   "execution_count": null
  },
  {
   "metadata": {},
   "cell_type": "code",
   "source": [
    "# Renomeando a coluna '#' para adaptabilidade e manutenção do dataframe\n",
    "df.rename(columns={'#': 'Pokedex_ID'}, inplace = True)"
   ],
   "id": "8f913d296a0d365e",
   "outputs": [],
   "execution_count": null
  },
  {
   "metadata": {},
   "cell_type": "markdown",
   "source": [
    "## Análise 1: Lendários Vs. Comuns\n",
    "Agora que os dados estão limpos, iremos iniciar com uma análise entre os Pokémons lendários e comuns."
   ],
   "id": "b2069c0380f11322"
  },
  {
   "metadata": {},
   "cell_type": "code",
   "outputs": [],
   "execution_count": null,
   "source": "",
   "id": "cbde403608377aa8"
  }
 ],
 "metadata": {
  "kernelspec": {
   "display_name": "Python 3",
   "language": "python",
   "name": "python3"
  },
  "language_info": {
   "codemirror_mode": {
    "name": "ipython",
    "version": 2
   },
   "file_extension": ".py",
   "mimetype": "text/x-python",
   "name": "python",
   "nbconvert_exporter": "python",
   "pygments_lexer": "ipython2",
   "version": "2.7.6"
  }
 },
 "nbformat": 4,
 "nbformat_minor": 5
}
